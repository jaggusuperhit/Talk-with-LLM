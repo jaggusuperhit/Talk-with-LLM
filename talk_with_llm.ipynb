{
 "cells": [
  {
   "cell_type": "code",
   "execution_count": 24,
   "id": "66735cb1",
   "metadata": {},
   "outputs": [],
   "source": [
    "from langchain_groq import ChatGroq\n",
    "from dotenv import load_dotenv, find_dotenv\n",
    "import os"
   ]
  },
  {
   "cell_type": "code",
   "execution_count": 25,
   "id": "9234529b",
   "metadata": {},
   "outputs": [],
   "source": [
    "# Load environment variables from .env file\n",
    "_ = load_dotenv(find_dotenv())"
   ]
  },
  {
   "cell_type": "code",
   "execution_count": 26,
   "id": "a447278e",
   "metadata": {},
   "outputs": [],
   "source": [
    "# Get the API key from environment variables\n",
    "groq_api_key = os.getenv(\"GROQ_API_KEY\")"
   ]
  },
  {
   "cell_type": "code",
   "execution_count": 27,
   "id": "640d29b2",
   "metadata": {},
   "outputs": [],
   "source": [
    "# Create the chat model\n",
    "llamaChatModel = ChatGroq(\n",
    "    model=\"meta-llama/llama-4-scout-17b-16e-instruct\",  # Note: Verify this is a valid model name\n",
    "    groq_api_key=groq_api_key  # Use the actual key from environment variables\n",
    ")"
   ]
  },
  {
   "cell_type": "code",
   "execution_count": 28,
   "id": "c084e088",
   "metadata": {},
   "outputs": [
    {
     "name": "stdout",
     "output_type": "stream",
     "text": [
      "content=\"Here's one:\\n\\nWhat do you call a fake noodle?\\n\\nAn impasta!\\n\\nI hope that made you laugh! Do you want to hear another one?\" additional_kwargs={} response_metadata={'token_usage': {'completion_tokens': 32, 'prompt_tokens': 15, 'total_tokens': 47, 'completion_time': 0.076248757, 'prompt_time': 0.002240948, 'queue_time': 0.046404862, 'total_time': 0.078489705}, 'model_name': 'meta-llama/llama-4-scout-17b-16e-instruct', 'system_fingerprint': 'fp_42ae451038', 'finish_reason': 'stop', 'logprobs': None} id='run--ca3551f3-873b-41f6-b9c6-576eb7977f27-0' usage_metadata={'input_tokens': 15, 'output_tokens': 32, 'total_tokens': 47}\n"
     ]
    }
   ],
   "source": [
    "# Now you can use llamaChatModel\n",
    "print(llamaChatModel.invoke(\"Tell me a joke.\"))"
   ]
  },
  {
   "cell_type": "code",
   "execution_count": 29,
   "id": "03473081",
   "metadata": {},
   "outputs": [],
   "source": [
    "mistralChatModel = ChatGroq(\n",
    "    model=\"mistral-saba-24b\"\n",
    ")"
   ]
  },
  {
   "cell_type": "code",
   "execution_count": 30,
   "id": "7b956f3a",
   "metadata": {},
   "outputs": [],
   "source": [
    "messages =[\n",
    "    (\"system\",\"You are an historian expert in the Kennedy family.\"),\n",
    "    (\"human\",\"How many members of the family died tragedically?\")\n",
    "]"
   ]
  },
  {
   "cell_type": "code",
   "execution_count": 31,
   "id": "4f595ff5",
   "metadata": {},
   "outputs": [],
   "source": [
    "llamaResponse = llamaChatModel.invoke(messages)"
   ]
  },
  {
   "cell_type": "code",
   "execution_count": 32,
   "id": "39e4e110",
   "metadata": {},
   "outputs": [
    {
     "name": "stdout",
     "output_type": "stream",
     "text": [
      "The Kennedy family is known for having experienced a significant number of tragic deaths, often referred to as the \"Kennedy Curse.\" Here's a list of the most notable ones:\n",
      "\n",
      "1. **Joseph P. Kennedy Sr.'s** son, **Joseph P. Kennedy Jr.**: The eldest son of Joseph P. Kennedy Sr. and Rose Kennedy, Joseph Jr. was killed in action during World War II on August 12, 1944, when his plane exploded over England.\n",
      "\n",
      "2. **John F. Kennedy**: The 35th President of the United States, John F. Kennedy, was assassinated on November 22, 1963, in Dallas, Texas.\n",
      "\n",
      "3. **Robert F. Kennedy**: The U.S. Senator from New York and presidential candidate, Robert F. Kennedy, was assassinated on June 5, 1968, in Los Angeles, California.\n",
      "\n",
      "4. **Ted Kennedy's** wife, **Jacqueline Kennedy Onassis's** brother and sister: \n",
      "   - **Lee Radziwill's** sister, **Lee Bouvier** (also known as **Lee Bouvier Canfield**; an aunt to the Kennedy children), died from a long struggle with brain damage on May 26, 1963; \n",
      "   - and **Kathleen Agnes \"Kick\" Kennedy** (the sister of John, Robert, and Ted) died in a plane crash on May 13, 1948.\n",
      "\n",
      "5. **Patrick Bouvier Kennedy**: The son of President John F. Kennedy and First Lady Jacqueline Kennedy, Patrick died on August 9, 1963, two days after his birth, due to complications from hyaline membrane disease.\n",
      "\n",
      "6. **Chappaquiddick incident**: Senator Ted Kennedy's car crashed off a bridge on July 18, 1969, resulting in the death of his passenger, **Mary Jo Kopechne**. Kennedy did not report the accident immediately and was later charged with leaving the scene of an accident, but he was not charged with her death.\n",
      "\n",
      "The number of tragic deaths within the Kennedy family can vary depending on how one defines \"tragic death.\" However, at least 6 direct family members (not to mention several more extended family and friends) lost their lives under tragic or untimely circumstances. The Kennedy family's experiences have been the subject of much speculation and discussion about the supposed \"Kennedy Curse.\"\n"
     ]
    }
   ],
   "source": [
    "print(llamaResponse.content)"
   ]
  },
  {
   "cell_type": "code",
   "execution_count": 34,
   "id": "52d49b2a",
   "metadata": {},
   "outputs": [],
   "source": [
    "mistralResponse = mistralChatModel.invoke(messages)"
   ]
  },
  {
   "cell_type": "code",
   "execution_count": 35,
   "id": "7c9c709c",
   "metadata": {},
   "outputs": [
    {
     "name": "stdout",
     "output_type": "stream",
     "text": [
      "The Kennedy family has had several members who have died tragically. Here are the notable ones:\n",
      "\n",
      "1. **Joseph P. Kennedy Jr.**: The eldest son of Joseph P. Kennedy Sr. and Rose Kennedy, he was killed in action during World War II in 1944 when his plane was shot down over France.\n",
      "\n",
      "2. **John F. Kennedy**: The 35th President of the United States, he was assassinated in Dallas, Texas, on November 22, 1963.\n",
      "\n",
      "3. **Robert F. Kennedy**: The younger brother of John F. Kennedy, he served as the U.S. Attorney General under his brother's presidency and later as a U.S. Senator. He was assassinated in Los Angeles, California, on June 6, 1968.\n",
      "\n",
      "4. **Edward \"Ted\" Kennedy**: The youngest brother of John and Robert, he died of brain cancer on August 25, 2009. Although his death was due to natural causes, it is often noted in the context of the family's tragic history.\n",
      "\n",
      "5. **Kathleen Kennedy Cavendish**: The sister of John, Robert, and Edward, she died in a plane crash in 1948.\n",
      "\n",
      "6. **Patricia Kennedy Lawford**: The sister of John, Robert, and Edward, she died of a stroke in 1984.\n",
      "\n",
      "These deaths have significantly impacted the Kennedy family and have contributed to their enduring legacy in American history.\n"
     ]
    }
   ],
   "source": [
    "print(mistralResponse.content)"
   ]
  },
  {
   "cell_type": "code",
   "execution_count": null,
   "id": "7b8742ad",
   "metadata": {},
   "outputs": [],
   "source": []
  }
 ],
 "metadata": {
  "kernelspec": {
   "display_name": ".venv",
   "language": "python",
   "name": "python3"
  },
  "language_info": {
   "codemirror_mode": {
    "name": "ipython",
    "version": 3
   },
   "file_extension": ".py",
   "mimetype": "text/x-python",
   "name": "python",
   "nbconvert_exporter": "python",
   "pygments_lexer": "ipython3",
   "version": "3.10.9"
  }
 },
 "nbformat": 4,
 "nbformat_minor": 5
}
